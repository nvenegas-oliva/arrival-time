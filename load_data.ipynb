{
 "cells": [
  {
   "cell_type": "code",
   "execution_count": 37,
   "metadata": {},
   "outputs": [],
   "source": [
    "import pandas as pd\n",
    "import numpy as np\n",
    "\n",
    "# Visualization\n",
    "import matplotlib.pyplot as plt\n",
    "import seaborn as sns\n",
    "%matplotlib inline"
   ]
  },
  {
   "cell_type": "code",
   "execution_count": 2,
   "metadata": {},
   "outputs": [],
   "source": [
    "orders = pd.read_csv('data/orders.csv')\n",
    "order_product = pd.read_csv('data/order_product.csv')\n",
    "shoppers = pd.read_csv('data/shoppers.csv')\n",
    "storebranch = pd.read_csv('data/storebranch.csv')"
   ]
  },
  {
   "cell_type": "code",
   "execution_count": 3,
   "metadata": {},
   "outputs": [
    {
     "data": {
      "text/html": [
       "<div>\n",
       "<table border=\"1\" class=\"dataframe\">\n",
       "  <thead>\n",
       "    <tr style=\"text-align: right;\">\n",
       "      <th></th>\n",
       "      <th>order_id</th>\n",
       "      <th>lat</th>\n",
       "      <th>lng</th>\n",
       "      <th>dow</th>\n",
       "      <th>promised_time</th>\n",
       "      <th>actual_time</th>\n",
       "      <th>on_demand</th>\n",
       "      <th>picker_id</th>\n",
       "      <th>driver_id</th>\n",
       "      <th>store_branch_id</th>\n",
       "      <th>total_minutes</th>\n",
       "    </tr>\n",
       "  </thead>\n",
       "  <tbody>\n",
       "    <tr>\n",
       "      <th>0</th>\n",
       "      <td>6abd5e28d01b7c733fe37485294235dc</td>\n",
       "      <td>18.221141</td>\n",
       "      <td>-100.313914</td>\n",
       "      <td>2</td>\n",
       "      <td>13:00:00</td>\n",
       "      <td>12:00:15</td>\n",
       "      <td>False</td>\n",
       "      <td>09bb5bfe76adbb474dddbdd111a51623</td>\n",
       "      <td>09bb5bfe76adbb474dddbdd111a51623</td>\n",
       "      <td>0dc6fb5924a8b917bc641666ed02663c</td>\n",
       "      <td>91.800861</td>\n",
       "    </tr>\n",
       "    <tr>\n",
       "      <th>1</th>\n",
       "      <td>0d37a1eea001f01b40232ffd496ff663</td>\n",
       "      <td>18.177712</td>\n",
       "      <td>-100.357051</td>\n",
       "      <td>2</td>\n",
       "      <td>13:00:00</td>\n",
       "      <td>10:28:10</td>\n",
       "      <td>False</td>\n",
       "      <td>c4c722114a82fa21654e57e9636d68b0</td>\n",
       "      <td>c4c722114a82fa21654e57e9636d68b0</td>\n",
       "      <td>2bbf833e689d24b697f1f3529c3f3c4b</td>\n",
       "      <td>206.599732</td>\n",
       "    </tr>\n",
       "    <tr>\n",
       "      <th>2</th>\n",
       "      <td>528428e9b9eb5d3bd0dbdd8da692b087</td>\n",
       "      <td>18.266832</td>\n",
       "      <td>-100.317553</td>\n",
       "      <td>2</td>\n",
       "      <td>11:00:00</td>\n",
       "      <td>10:40:50</td>\n",
       "      <td>False</td>\n",
       "      <td>e15c7a67d0ea9a54dffb410bc1d8528b</td>\n",
       "      <td>e15c7a67d0ea9a54dffb410bc1d8528b</td>\n",
       "      <td>8d891dfc0e29d744c15c18adced74a68</td>\n",
       "      <td>93.458001</td>\n",
       "    </tr>\n",
       "    <tr>\n",
       "      <th>3</th>\n",
       "      <td>d3f7be6d64eae7405b7bf024e04807a2</td>\n",
       "      <td>18.248884</td>\n",
       "      <td>-100.322622</td>\n",
       "      <td>2</td>\n",
       "      <td>10:00:00</td>\n",
       "      <td>09:41:47</td>\n",
       "      <td>False</td>\n",
       "      <td>d1f0bd4b237c1358f09db22076b940e7</td>\n",
       "      <td>d1f0bd4b237c1358f09db22076b940e7</td>\n",
       "      <td>0dc6fb5924a8b917bc641666ed02663c</td>\n",
       "      <td>124.778761</td>\n",
       "    </tr>\n",
       "    <tr>\n",
       "      <th>4</th>\n",
       "      <td>e0ad6533b6cd9a382ec6c1d473c5036c</td>\n",
       "      <td>18.229110</td>\n",
       "      <td>-100.322672</td>\n",
       "      <td>2</td>\n",
       "      <td>11:00:00</td>\n",
       "      <td>10:07:53</td>\n",
       "      <td>False</td>\n",
       "      <td>06a71e8ab0c6db5ce22a4689fd76a3f4</td>\n",
       "      <td>06a71e8ab0c6db5ce22a4689fd76a3f4</td>\n",
       "      <td>afd0a7b8d546fcc697bb93a5934b65c3</td>\n",
       "      <td>130.321208</td>\n",
       "    </tr>\n",
       "  </tbody>\n",
       "</table>\n",
       "</div>"
      ],
      "text/plain": [
       "                           order_id        lat         lng  dow promised_time  \\\n",
       "0  6abd5e28d01b7c733fe37485294235dc  18.221141 -100.313914    2      13:00:00   \n",
       "1  0d37a1eea001f01b40232ffd496ff663  18.177712 -100.357051    2      13:00:00   \n",
       "2  528428e9b9eb5d3bd0dbdd8da692b087  18.266832 -100.317553    2      11:00:00   \n",
       "3  d3f7be6d64eae7405b7bf024e04807a2  18.248884 -100.322622    2      10:00:00   \n",
       "4  e0ad6533b6cd9a382ec6c1d473c5036c  18.229110 -100.322672    2      11:00:00   \n",
       "\n",
       "  actual_time on_demand                         picker_id  \\\n",
       "0    12:00:15     False  09bb5bfe76adbb474dddbdd111a51623   \n",
       "1    10:28:10     False  c4c722114a82fa21654e57e9636d68b0   \n",
       "2    10:40:50     False  e15c7a67d0ea9a54dffb410bc1d8528b   \n",
       "3    09:41:47     False  d1f0bd4b237c1358f09db22076b940e7   \n",
       "4    10:07:53     False  06a71e8ab0c6db5ce22a4689fd76a3f4   \n",
       "\n",
       "                          driver_id                   store_branch_id  \\\n",
       "0  09bb5bfe76adbb474dddbdd111a51623  0dc6fb5924a8b917bc641666ed02663c   \n",
       "1  c4c722114a82fa21654e57e9636d68b0  2bbf833e689d24b697f1f3529c3f3c4b   \n",
       "2  e15c7a67d0ea9a54dffb410bc1d8528b  8d891dfc0e29d744c15c18adced74a68   \n",
       "3  d1f0bd4b237c1358f09db22076b940e7  0dc6fb5924a8b917bc641666ed02663c   \n",
       "4  06a71e8ab0c6db5ce22a4689fd76a3f4  afd0a7b8d546fcc697bb93a5934b65c3   \n",
       "\n",
       "   total_minutes  \n",
       "0      91.800861  \n",
       "1     206.599732  \n",
       "2      93.458001  \n",
       "3     124.778761  \n",
       "4     130.321208  "
      ]
     },
     "execution_count": 3,
     "metadata": {},
     "output_type": "execute_result"
    }
   ],
   "source": [
    "orders.head()"
   ]
  },
  {
   "cell_type": "code",
   "execution_count": 4,
   "metadata": {},
   "outputs": [
    {
     "data": {
      "text/plain": [
       "Index(['order_id', 'lat', 'lng', 'dow', 'promised_time', 'actual_time',\n",
       "       'on_demand', 'picker_id', 'driver_id', 'store_branch_id',\n",
       "       'total_minutes'],\n",
       "      dtype='object')"
      ]
     },
     "execution_count": 4,
     "metadata": {},
     "output_type": "execute_result"
    }
   ],
   "source": [
    "orders.columns"
   ]
  },
  {
   "cell_type": "code",
   "execution_count": 5,
   "metadata": {},
   "outputs": [],
   "source": [
    "orders.drop(['lat', 'lng', 'promised_time'], axis=1, inplace=True)"
   ]
  },
  {
   "cell_type": "code",
   "execution_count": 6,
   "metadata": {},
   "outputs": [
    {
     "name": "stdout",
     "output_type": "stream",
     "text": [
      "Num orders in orders:  7295\n",
      "Num orders in order_product:  7278\n"
     ]
    }
   ],
   "source": [
    "print(\"Num orders in orders: \" ,len(orders['order_id'].unique()))\n",
    "print(\"Num orders in order_product: \" ,len(order_product['order_id'].unique()))"
   ]
  },
  {
   "cell_type": "code",
   "execution_count": 14,
   "metadata": {},
   "outputs": [
    {
     "data": {
      "text/plain": [
       "Index(['order_id', 'product_id', 'quantity', 'quantity_found', 'buy_unit'], dtype='object')"
      ]
     },
     "execution_count": 14,
     "metadata": {},
     "output_type": "execute_result"
    }
   ],
   "source": [
    "order_product.columns"
   ]
  },
  {
   "cell_type": "code",
   "execution_count": 16,
   "metadata": {},
   "outputs": [],
   "source": [
    "order_product.drop(['product_id', 'quantity_found', 'buy_unit'], axis=1, inplace=True)"
   ]
  },
  {
   "cell_type": "code",
   "execution_count": 17,
   "metadata": {},
   "outputs": [],
   "source": [
    "products = order_product.groupby('order_id').agg([np.size, np.sum])['quantity']"
   ]
  },
  {
   "cell_type": "code",
   "execution_count": 18,
   "metadata": {},
   "outputs": [],
   "source": [
    "products.reset_index(inplace=True)"
   ]
  },
  {
   "cell_type": "code",
   "execution_count": 19,
   "metadata": {},
   "outputs": [],
   "source": [
    "products.rename(columns={'size': 'quantity_products', 'sum': 'sum_products'}, inplace=True)"
   ]
  },
  {
   "cell_type": "code",
   "execution_count": 49,
   "metadata": {},
   "outputs": [],
   "source": [
    "matrix = pd.merge(orders, products, on='order_id')"
   ]
  },
  {
   "cell_type": "code",
   "execution_count": 50,
   "metadata": {},
   "outputs": [
    {
     "data": {
      "text/html": [
       "<div>\n",
       "<table border=\"1\" class=\"dataframe\">\n",
       "  <thead>\n",
       "    <tr style=\"text-align: right;\">\n",
       "      <th></th>\n",
       "      <th>order_id</th>\n",
       "      <th>dow</th>\n",
       "      <th>actual_time</th>\n",
       "      <th>on_demand</th>\n",
       "      <th>picker_id</th>\n",
       "      <th>driver_id</th>\n",
       "      <th>store_branch_id</th>\n",
       "      <th>total_minutes</th>\n",
       "      <th>quantity_products</th>\n",
       "      <th>sum_products</th>\n",
       "    </tr>\n",
       "  </thead>\n",
       "  <tbody>\n",
       "    <tr>\n",
       "      <th>0</th>\n",
       "      <td>6abd5e28d01b7c733fe37485294235dc</td>\n",
       "      <td>2</td>\n",
       "      <td>12:00:15</td>\n",
       "      <td>False</td>\n",
       "      <td>09bb5bfe76adbb474dddbdd111a51623</td>\n",
       "      <td>09bb5bfe76adbb474dddbdd111a51623</td>\n",
       "      <td>0dc6fb5924a8b917bc641666ed02663c</td>\n",
       "      <td>91.800861</td>\n",
       "      <td>27.0</td>\n",
       "      <td>24.722</td>\n",
       "    </tr>\n",
       "    <tr>\n",
       "      <th>1</th>\n",
       "      <td>0d37a1eea001f01b40232ffd496ff663</td>\n",
       "      <td>2</td>\n",
       "      <td>10:28:10</td>\n",
       "      <td>False</td>\n",
       "      <td>c4c722114a82fa21654e57e9636d68b0</td>\n",
       "      <td>c4c722114a82fa21654e57e9636d68b0</td>\n",
       "      <td>2bbf833e689d24b697f1f3529c3f3c4b</td>\n",
       "      <td>206.599732</td>\n",
       "      <td>103.0</td>\n",
       "      <td>189.562</td>\n",
       "    </tr>\n",
       "    <tr>\n",
       "      <th>2</th>\n",
       "      <td>528428e9b9eb5d3bd0dbdd8da692b087</td>\n",
       "      <td>2</td>\n",
       "      <td>10:40:50</td>\n",
       "      <td>False</td>\n",
       "      <td>e15c7a67d0ea9a54dffb410bc1d8528b</td>\n",
       "      <td>e15c7a67d0ea9a54dffb410bc1d8528b</td>\n",
       "      <td>8d891dfc0e29d744c15c18adced74a68</td>\n",
       "      <td>93.458001</td>\n",
       "      <td>6.0</td>\n",
       "      <td>6.000</td>\n",
       "    </tr>\n",
       "    <tr>\n",
       "      <th>3</th>\n",
       "      <td>d3f7be6d64eae7405b7bf024e04807a2</td>\n",
       "      <td>2</td>\n",
       "      <td>09:41:47</td>\n",
       "      <td>False</td>\n",
       "      <td>d1f0bd4b237c1358f09db22076b940e7</td>\n",
       "      <td>d1f0bd4b237c1358f09db22076b940e7</td>\n",
       "      <td>0dc6fb5924a8b917bc641666ed02663c</td>\n",
       "      <td>124.778761</td>\n",
       "      <td>17.0</td>\n",
       "      <td>38.300</td>\n",
       "    </tr>\n",
       "    <tr>\n",
       "      <th>4</th>\n",
       "      <td>e0ad6533b6cd9a382ec6c1d473c5036c</td>\n",
       "      <td>2</td>\n",
       "      <td>10:07:53</td>\n",
       "      <td>False</td>\n",
       "      <td>06a71e8ab0c6db5ce22a4689fd76a3f4</td>\n",
       "      <td>06a71e8ab0c6db5ce22a4689fd76a3f4</td>\n",
       "      <td>afd0a7b8d546fcc697bb93a5934b65c3</td>\n",
       "      <td>130.321208</td>\n",
       "      <td>44.0</td>\n",
       "      <td>38.721</td>\n",
       "    </tr>\n",
       "  </tbody>\n",
       "</table>\n",
       "</div>"
      ],
      "text/plain": [
       "                           order_id  dow actual_time on_demand  \\\n",
       "0  6abd5e28d01b7c733fe37485294235dc    2    12:00:15     False   \n",
       "1  0d37a1eea001f01b40232ffd496ff663    2    10:28:10     False   \n",
       "2  528428e9b9eb5d3bd0dbdd8da692b087    2    10:40:50     False   \n",
       "3  d3f7be6d64eae7405b7bf024e04807a2    2    09:41:47     False   \n",
       "4  e0ad6533b6cd9a382ec6c1d473c5036c    2    10:07:53     False   \n",
       "\n",
       "                          picker_id                         driver_id  \\\n",
       "0  09bb5bfe76adbb474dddbdd111a51623  09bb5bfe76adbb474dddbdd111a51623   \n",
       "1  c4c722114a82fa21654e57e9636d68b0  c4c722114a82fa21654e57e9636d68b0   \n",
       "2  e15c7a67d0ea9a54dffb410bc1d8528b  e15c7a67d0ea9a54dffb410bc1d8528b   \n",
       "3  d1f0bd4b237c1358f09db22076b940e7  d1f0bd4b237c1358f09db22076b940e7   \n",
       "4  06a71e8ab0c6db5ce22a4689fd76a3f4  06a71e8ab0c6db5ce22a4689fd76a3f4   \n",
       "\n",
       "                    store_branch_id  total_minutes  quantity_products  \\\n",
       "0  0dc6fb5924a8b917bc641666ed02663c      91.800861               27.0   \n",
       "1  2bbf833e689d24b697f1f3529c3f3c4b     206.599732              103.0   \n",
       "2  8d891dfc0e29d744c15c18adced74a68      93.458001                6.0   \n",
       "3  0dc6fb5924a8b917bc641666ed02663c     124.778761               17.0   \n",
       "4  afd0a7b8d546fcc697bb93a5934b65c3     130.321208               44.0   \n",
       "\n",
       "   sum_products  \n",
       "0        24.722  \n",
       "1       189.562  \n",
       "2         6.000  \n",
       "3        38.300  \n",
       "4        38.721  "
      ]
     },
     "execution_count": 50,
     "metadata": {},
     "output_type": "execute_result"
    }
   ],
   "source": [
    "matrix.head()"
   ]
  },
  {
   "cell_type": "code",
   "execution_count": null,
   "metadata": {},
   "outputs": [],
   "source": []
  },
  {
   "cell_type": "code",
   "execution_count": 28,
   "metadata": {},
   "outputs": [
    {
     "data": {
      "text/plain": [
       "Index(['shopper_id', 'seniority', 'found_rate', 'picking_speed',\n",
       "       'accepted_rate', 'rating'],\n",
       "      dtype='object')"
      ]
     },
     "execution_count": 28,
     "metadata": {},
     "output_type": "execute_result"
    }
   ],
   "source": [
    "shoppers.columns"
   ]
  },
  {
   "cell_type": "code",
   "execution_count": 30,
   "metadata": {},
   "outputs": [],
   "source": [
    "shoppers.drop(['found_rate', 'picking_speed', 'accepted_rate'], axis=1, inplace=True)"
   ]
  },
  {
   "cell_type": "code",
   "execution_count": 35,
   "metadata": {},
   "outputs": [
    {
     "data": {
      "text/html": [
       "<div>\n",
       "<table border=\"1\" class=\"dataframe\">\n",
       "  <thead>\n",
       "    <tr style=\"text-align: right;\">\n",
       "      <th></th>\n",
       "      <th>shopper_id</th>\n",
       "      <th>seniority</th>\n",
       "      <th>rating</th>\n",
       "    </tr>\n",
       "  </thead>\n",
       "  <tbody>\n",
       "    <tr>\n",
       "      <th>0</th>\n",
       "      <td>087ab65ceca40dbef697f585dc159d5d</td>\n",
       "      <td>ADVANCED</td>\n",
       "      <td>4.48</td>\n",
       "    </tr>\n",
       "    <tr>\n",
       "      <th>1</th>\n",
       "      <td>645973c41314d763b58dc2bceeeeffc9</td>\n",
       "      <td>INTERMEDIATE</td>\n",
       "      <td>4.79</td>\n",
       "    </tr>\n",
       "    <tr>\n",
       "      <th>2</th>\n",
       "      <td>82810715fdda44962e7e422015ea1f32</td>\n",
       "      <td>ADVANCED</td>\n",
       "      <td>4.84</td>\n",
       "    </tr>\n",
       "    <tr>\n",
       "      <th>3</th>\n",
       "      <td>416aa7dbd5a2f58d7bca96657e8faa1e</td>\n",
       "      <td>INTERMEDIATE</td>\n",
       "      <td>NaN</td>\n",
       "    </tr>\n",
       "    <tr>\n",
       "      <th>4</th>\n",
       "      <td>27a3e845a4c3eb7ded4748f84140a843</td>\n",
       "      <td>ADVANCED</td>\n",
       "      <td>4.84</td>\n",
       "    </tr>\n",
       "  </tbody>\n",
       "</table>\n",
       "</div>"
      ],
      "text/plain": [
       "                         shopper_id     seniority  rating\n",
       "0  087ab65ceca40dbef697f585dc159d5d      ADVANCED    4.48\n",
       "1  645973c41314d763b58dc2bceeeeffc9  INTERMEDIATE    4.79\n",
       "2  82810715fdda44962e7e422015ea1f32      ADVANCED    4.84\n",
       "3  416aa7dbd5a2f58d7bca96657e8faa1e  INTERMEDIATE     NaN\n",
       "4  27a3e845a4c3eb7ded4748f84140a843      ADVANCED    4.84"
      ]
     },
     "execution_count": 35,
     "metadata": {},
     "output_type": "execute_result"
    }
   ],
   "source": [
    "shoppers.head()"
   ]
  },
  {
   "cell_type": "code",
   "execution_count": 38,
   "metadata": {},
   "outputs": [
    {
     "data": {
      "text/plain": [
       "Text(0.5,1,'Missing values')"
      ]
     },
     "execution_count": 38,
     "metadata": {},
     "output_type": "execute_result"
    },
    {
     "data": {
      "image/png": "[encoded data removed]",
      "text/plain": [
       "<Figure size 432x288 with 1 Axes>"
      ]
     },
     "metadata": {},
     "output_type": "display_data"
    }
   ],
   "source": [
    "sns.heatmap(shoppers.isnull(), yticklabels=False, cbar=False, cmap='viridis').set_title('Missing values')"
   ]
  },
  {
   "cell_type": "code",
   "execution_count": 42,
   "metadata": {},
   "outputs": [],
   "source": [
    "shoppers['rating'] = shoppers.groupby('seniority').transform(lambda x: x.fillna(x.mean()))"
   ]
  },
  {
   "cell_type": "code",
   "execution_count": 51,
   "metadata": {},
   "outputs": [],
   "source": [
    "matrix = pd.merge(matrix, shoppers, how='left', left_on=['picker_id'], right_on=['shopper_id'])"
   ]
  },
  {
   "cell_type": "code",
   "execution_count": 53,
   "metadata": {},
   "outputs": [],
   "source": [
    "matrix = pd.merge(matrix, shoppers, how='left', left_on=['driver_id'], right_on=['shopper_id'])"
   ]
  },
  {
   "cell_type": "code",
   "execution_count": 54,
   "metadata": {},
   "outputs": [
    {
     "data": {
      "text/html": [
       "<div>\n",
       "<table border=\"1\" class=\"dataframe\">\n",
       "  <thead>\n",
       "    <tr style=\"text-align: right;\">\n",
       "      <th></th>\n",
       "      <th>order_id</th>\n",
       "      <th>dow</th>\n",
       "      <th>actual_time</th>\n",
       "      <th>on_demand</th>\n",
       "      <th>picker_id</th>\n",
       "      <th>driver_id</th>\n",
       "      <th>store_branch_id</th>\n",
       "      <th>total_minutes</th>\n",
       "      <th>quantity_products</th>\n",
       "      <th>sum_products</th>\n",
       "      <th>shopper_id_x</th>\n",
       "      <th>seniority_x</th>\n",
       "      <th>rating_x</th>\n",
       "      <th>shopper_id_y</th>\n",
       "      <th>seniority_y</th>\n",
       "      <th>rating_y</th>\n",
       "    </tr>\n",
       "  </thead>\n",
       "  <tbody>\n",
       "    <tr>\n",
       "      <th>0</th>\n",
       "      <td>6abd5e28d01b7c733fe37485294235dc</td>\n",
       "      <td>2</td>\n",
       "      <td>12:00:15</td>\n",
       "      <td>False</td>\n",
       "      <td>09bb5bfe76adbb474dddbdd111a51623</td>\n",
       "      <td>09bb5bfe76adbb474dddbdd111a51623</td>\n",
       "      <td>0dc6fb5924a8b917bc641666ed02663c</td>\n",
       "      <td>91.800861</td>\n",
       "      <td>27.0</td>\n",
       "      <td>24.722</td>\n",
       "      <td>09bb5bfe76adbb474dddbdd111a51623</td>\n",
       "      <td>ADVANCED</td>\n",
       "      <td>4.68</td>\n",
       "      <td>09bb5bfe76adbb474dddbdd111a51623</td>\n",
       "      <td>ADVANCED</td>\n",
       "      <td>4.68</td>\n",
       "    </tr>\n",
       "    <tr>\n",
       "      <th>1</th>\n",
       "      <td>0d37a1eea001f01b40232ffd496ff663</td>\n",
       "      <td>2</td>\n",
       "      <td>10:28:10</td>\n",
       "      <td>False</td>\n",
       "      <td>c4c722114a82fa21654e57e9636d68b0</td>\n",
       "      <td>c4c722114a82fa21654e57e9636d68b0</td>\n",
       "      <td>2bbf833e689d24b697f1f3529c3f3c4b</td>\n",
       "      <td>206.599732</td>\n",
       "      <td>103.0</td>\n",
       "      <td>189.562</td>\n",
       "      <td>c4c722114a82fa21654e57e9636d68b0</td>\n",
       "      <td>ADVANCED</td>\n",
       "      <td>4.76</td>\n",
       "      <td>c4c722114a82fa21654e57e9636d68b0</td>\n",
       "      <td>ADVANCED</td>\n",
       "      <td>4.76</td>\n",
       "    </tr>\n",
       "    <tr>\n",
       "      <th>2</th>\n",
       "      <td>528428e9b9eb5d3bd0dbdd8da692b087</td>\n",
       "      <td>2</td>\n",
       "      <td>10:40:50</td>\n",
       "      <td>False</td>\n",
       "      <td>e15c7a67d0ea9a54dffb410bc1d8528b</td>\n",
       "      <td>e15c7a67d0ea9a54dffb410bc1d8528b</td>\n",
       "      <td>8d891dfc0e29d744c15c18adced74a68</td>\n",
       "      <td>93.458001</td>\n",
       "      <td>6.0</td>\n",
       "      <td>6.000</td>\n",
       "      <td>e15c7a67d0ea9a54dffb410bc1d8528b</td>\n",
       "      <td>INTERMEDIATE</td>\n",
       "      <td>4.96</td>\n",
       "      <td>e15c7a67d0ea9a54dffb410bc1d8528b</td>\n",
       "      <td>INTERMEDIATE</td>\n",
       "      <td>4.96</td>\n",
       "    </tr>\n",
       "    <tr>\n",
       "      <th>3</th>\n",
       "      <td>d3f7be6d64eae7405b7bf024e04807a2</td>\n",
       "      <td>2</td>\n",
       "      <td>09:41:47</td>\n",
       "      <td>False</td>\n",
       "      <td>d1f0bd4b237c1358f09db22076b940e7</td>\n",
       "      <td>d1f0bd4b237c1358f09db22076b940e7</td>\n",
       "      <td>0dc6fb5924a8b917bc641666ed02663c</td>\n",
       "      <td>124.778761</td>\n",
       "      <td>17.0</td>\n",
       "      <td>38.300</td>\n",
       "      <td>d1f0bd4b237c1358f09db22076b940e7</td>\n",
       "      <td>INTERMEDIATE</td>\n",
       "      <td>4.92</td>\n",
       "      <td>d1f0bd4b237c1358f09db22076b940e7</td>\n",
       "      <td>INTERMEDIATE</td>\n",
       "      <td>4.92</td>\n",
       "    </tr>\n",
       "    <tr>\n",
       "      <th>4</th>\n",
       "      <td>e0ad6533b6cd9a382ec6c1d473c5036c</td>\n",
       "      <td>2</td>\n",
       "      <td>10:07:53</td>\n",
       "      <td>False</td>\n",
       "      <td>06a71e8ab0c6db5ce22a4689fd76a3f4</td>\n",
       "      <td>06a71e8ab0c6db5ce22a4689fd76a3f4</td>\n",
       "      <td>afd0a7b8d546fcc697bb93a5934b65c3</td>\n",
       "      <td>130.321208</td>\n",
       "      <td>44.0</td>\n",
       "      <td>38.721</td>\n",
       "      <td>06a71e8ab0c6db5ce22a4689fd76a3f4</td>\n",
       "      <td>ADVANCED</td>\n",
       "      <td>4.92</td>\n",
       "      <td>06a71e8ab0c6db5ce22a4689fd76a3f4</td>\n",
       "      <td>ADVANCED</td>\n",
       "      <td>4.92</td>\n",
       "    </tr>\n",
       "  </tbody>\n",
       "</table>\n",
       "</div>"
      ],
      "text/plain": [
       "                           order_id  dow actual_time on_demand  \\\n",
       "0  6abd5e28d01b7c733fe37485294235dc    2    12:00:15     False   \n",
       "1  0d37a1eea001f01b40232ffd496ff663    2    10:28:10     False   \n",
       "2  528428e9b9eb5d3bd0dbdd8da692b087    2    10:40:50     False   \n",
       "3  d3f7be6d64eae7405b7bf024e04807a2    2    09:41:47     False   \n",
       "4  e0ad6533b6cd9a382ec6c1d473c5036c    2    10:07:53     False   \n",
       "\n",
       "                          picker_id                         driver_id  \\\n",
       "0  09bb5bfe76adbb474dddbdd111a51623  09bb5bfe76adbb474dddbdd111a51623   \n",
       "1  c4c722114a82fa21654e57e9636d68b0  c4c722114a82fa21654e57e9636d68b0   \n",
       "2  e15c7a67d0ea9a54dffb410bc1d8528b  e15c7a67d0ea9a54dffb410bc1d8528b   \n",
       "3  d1f0bd4b237c1358f09db22076b940e7  d1f0bd4b237c1358f09db22076b940e7   \n",
       "4  06a71e8ab0c6db5ce22a4689fd76a3f4  06a71e8ab0c6db5ce22a4689fd76a3f4   \n",
       "\n",
       "                    store_branch_id  total_minutes  quantity_products  \\\n",
       "0  0dc6fb5924a8b917bc641666ed02663c      91.800861               27.0   \n",
       "1  2bbf833e689d24b697f1f3529c3f3c4b     206.599732              103.0   \n",
       "2  8d891dfc0e29d744c15c18adced74a68      93.458001                6.0   \n",
       "3  0dc6fb5924a8b917bc641666ed02663c     124.778761               17.0   \n",
       "4  afd0a7b8d546fcc697bb93a5934b65c3     130.321208               44.0   \n",
       "\n",
       "   sum_products                      shopper_id_x   seniority_x  rating_x  \\\n",
       "0        24.722  09bb5bfe76adbb474dddbdd111a51623      ADVANCED      4.68   \n",
       "1       189.562  c4c722114a82fa21654e57e9636d68b0      ADVANCED      4.76   \n",
       "2         6.000  e15c7a67d0ea9a54dffb410bc1d8528b  INTERMEDIATE      4.96   \n",
       "3        38.300  d1f0bd4b237c1358f09db22076b940e7  INTERMEDIATE      4.92   \n",
       "4        38.721  06a71e8ab0c6db5ce22a4689fd76a3f4      ADVANCED      4.92   \n",
       "\n",
       "                       shopper_id_y   seniority_y  rating_y  \n",
       "0  09bb5bfe76adbb474dddbdd111a51623      ADVANCED      4.68  \n",
       "1  c4c722114a82fa21654e57e9636d68b0      ADVANCED      4.76  \n",
       "2  e15c7a67d0ea9a54dffb410bc1d8528b  INTERMEDIATE      4.96  \n",
       "3  d1f0bd4b237c1358f09db22076b940e7  INTERMEDIATE      4.92  \n",
       "4  06a71e8ab0c6db5ce22a4689fd76a3f4      ADVANCED      4.92  "
      ]
     },
     "execution_count": 54,
     "metadata": {},
     "output_type": "execute_result"
    }
   ],
   "source": [
    "matrix.head()"
   ]
  },
  {
   "cell_type": "code",
   "execution_count": 55,
   "metadata": {},
   "outputs": [
    {
     "data": {
      "text/plain": [
       "Index(['order_id', 'dow', 'actual_time', 'on_demand', 'picker_id', 'driver_id',\n",
       "       'store_branch_id', 'total_minutes', 'quantity_products', 'sum_products',\n",
       "       'shopper_id_x', 'seniority_x', 'rating_x', 'shopper_id_y',\n",
       "       'seniority_y', 'rating_y'],\n",
       "      dtype='object')"
      ]
     },
     "execution_count": 55,
     "metadata": {},
     "output_type": "execute_result"
    }
   ],
   "source": [
    "matrix.columns"
   ]
  },
  {
   "cell_type": "code",
   "execution_count": 56,
   "metadata": {},
   "outputs": [],
   "source": [
    "matrix.drop(['shopper_id_x', 'shopper_id_y'], axis=1, inplace=True)"
   ]
  },
  {
   "cell_type": "code",
   "execution_count": 57,
   "metadata": {},
   "outputs": [],
   "source": [
    "matrix.rename(columns={'seniority_x': 'seniority_picker', \n",
    "                       'rating_x': 'rating_picker',\n",
    "                       'seniority_y': 'seniority_driver',\n",
    "                       'rating_y': 'rating_driver'}, inplace=True)"
   ]
  },
  {
   "cell_type": "code",
   "execution_count": 58,
   "metadata": {},
   "outputs": [
    {
     "data": {
      "text/html": [
       "<div>\n",
       "<table border=\"1\" class=\"dataframe\">\n",
       "  <thead>\n",
       "    <tr style=\"text-align: right;\">\n",
       "      <th></th>\n",
       "      <th>order_id</th>\n",
       "      <th>dow</th>\n",
       "      <th>actual_time</th>\n",
       "      <th>on_demand</th>\n",
       "      <th>picker_id</th>\n",
       "      <th>driver_id</th>\n",
       "      <th>store_branch_id</th>\n",
       "      <th>total_minutes</th>\n",
       "      <th>quantity_products</th>\n",
       "      <th>sum_products</th>\n",
       "      <th>seniority_picker</th>\n",
       "      <th>rating_picker</th>\n",
       "      <th>seniority_driver</th>\n",
       "      <th>rating_driver</th>\n",
       "    </tr>\n",
       "  </thead>\n",
       "  <tbody>\n",
       "    <tr>\n",
       "      <th>0</th>\n",
       "      <td>6abd5e28d01b7c733fe37485294235dc</td>\n",
       "      <td>2</td>\n",
       "      <td>12:00:15</td>\n",
       "      <td>False</td>\n",
       "      <td>09bb5bfe76adbb474dddbdd111a51623</td>\n",
       "      <td>09bb5bfe76adbb474dddbdd111a51623</td>\n",
       "      <td>0dc6fb5924a8b917bc641666ed02663c</td>\n",
       "      <td>91.800861</td>\n",
       "      <td>27.0</td>\n",
       "      <td>24.722</td>\n",
       "      <td>ADVANCED</td>\n",
       "      <td>4.68</td>\n",
       "      <td>ADVANCED</td>\n",
       "      <td>4.68</td>\n",
       "    </tr>\n",
       "    <tr>\n",
       "      <th>1</th>\n",
       "      <td>0d37a1eea001f01b40232ffd496ff663</td>\n",
       "      <td>2</td>\n",
       "      <td>10:28:10</td>\n",
       "      <td>False</td>\n",
       "      <td>c4c722114a82fa21654e57e9636d68b0</td>\n",
       "      <td>c4c722114a82fa21654e57e9636d68b0</td>\n",
       "      <td>2bbf833e689d24b697f1f3529c3f3c4b</td>\n",
       "      <td>206.599732</td>\n",
       "      <td>103.0</td>\n",
       "      <td>189.562</td>\n",
       "      <td>ADVANCED</td>\n",
       "      <td>4.76</td>\n",
       "      <td>ADVANCED</td>\n",
       "      <td>4.76</td>\n",
       "    </tr>\n",
       "    <tr>\n",
       "      <th>2</th>\n",
       "      <td>528428e9b9eb5d3bd0dbdd8da692b087</td>\n",
       "      <td>2</td>\n",
       "      <td>10:40:50</td>\n",
       "      <td>False</td>\n",
       "      <td>e15c7a67d0ea9a54dffb410bc1d8528b</td>\n",
       "      <td>e15c7a67d0ea9a54dffb410bc1d8528b</td>\n",
       "      <td>8d891dfc0e29d744c15c18adced74a68</td>\n",
       "      <td>93.458001</td>\n",
       "      <td>6.0</td>\n",
       "      <td>6.000</td>\n",
       "      <td>INTERMEDIATE</td>\n",
       "      <td>4.96</td>\n",
       "      <td>INTERMEDIATE</td>\n",
       "      <td>4.96</td>\n",
       "    </tr>\n",
       "    <tr>\n",
       "      <th>3</th>\n",
       "      <td>d3f7be6d64eae7405b7bf024e04807a2</td>\n",
       "      <td>2</td>\n",
       "      <td>09:41:47</td>\n",
       "      <td>False</td>\n",
       "      <td>d1f0bd4b237c1358f09db22076b940e7</td>\n",
       "      <td>d1f0bd4b237c1358f09db22076b940e7</td>\n",
       "      <td>0dc6fb5924a8b917bc641666ed02663c</td>\n",
       "      <td>124.778761</td>\n",
       "      <td>17.0</td>\n",
       "      <td>38.300</td>\n",
       "      <td>INTERMEDIATE</td>\n",
       "      <td>4.92</td>\n",
       "      <td>INTERMEDIATE</td>\n",
       "      <td>4.92</td>\n",
       "    </tr>\n",
       "    <tr>\n",
       "      <th>4</th>\n",
       "      <td>e0ad6533b6cd9a382ec6c1d473c5036c</td>\n",
       "      <td>2</td>\n",
       "      <td>10:07:53</td>\n",
       "      <td>False</td>\n",
       "      <td>06a71e8ab0c6db5ce22a4689fd76a3f4</td>\n",
       "      <td>06a71e8ab0c6db5ce22a4689fd76a3f4</td>\n",
       "      <td>afd0a7b8d546fcc697bb93a5934b65c3</td>\n",
       "      <td>130.321208</td>\n",
       "      <td>44.0</td>\n",
       "      <td>38.721</td>\n",
       "      <td>ADVANCED</td>\n",
       "      <td>4.92</td>\n",
       "      <td>ADVANCED</td>\n",
       "      <td>4.92</td>\n",
       "    </tr>\n",
       "  </tbody>\n",
       "</table>\n",
       "</div>"
      ],
      "text/plain": [
       "                           order_id  dow actual_time on_demand  \\\n",
       "0  6abd5e28d01b7c733fe37485294235dc    2    12:00:15     False   \n",
       "1  0d37a1eea001f01b40232ffd496ff663    2    10:28:10     False   \n",
       "2  528428e9b9eb5d3bd0dbdd8da692b087    2    10:40:50     False   \n",
       "3  d3f7be6d64eae7405b7bf024e04807a2    2    09:41:47     False   \n",
       "4  e0ad6533b6cd9a382ec6c1d473c5036c    2    10:07:53     False   \n",
       "\n",
       "                          picker_id                         driver_id  \\\n",
       "0  09bb5bfe76adbb474dddbdd111a51623  09bb5bfe76adbb474dddbdd111a51623   \n",
       "1  c4c722114a82fa21654e57e9636d68b0  c4c722114a82fa21654e57e9636d68b0   \n",
       "2  e15c7a67d0ea9a54dffb410bc1d8528b  e15c7a67d0ea9a54dffb410bc1d8528b   \n",
       "3  d1f0bd4b237c1358f09db22076b940e7  d1f0bd4b237c1358f09db22076b940e7   \n",
       "4  06a71e8ab0c6db5ce22a4689fd76a3f4  06a71e8ab0c6db5ce22a4689fd76a3f4   \n",
       "\n",
       "                    store_branch_id  total_minutes  quantity_products  \\\n",
       "0  0dc6fb5924a8b917bc641666ed02663c      91.800861               27.0   \n",
       "1  2bbf833e689d24b697f1f3529c3f3c4b     206.599732              103.0   \n",
       "2  8d891dfc0e29d744c15c18adced74a68      93.458001                6.0   \n",
       "3  0dc6fb5924a8b917bc641666ed02663c     124.778761               17.0   \n",
       "4  afd0a7b8d546fcc697bb93a5934b65c3     130.321208               44.0   \n",
       "\n",
       "   sum_products seniority_picker  rating_picker seniority_driver  \\\n",
       "0        24.722         ADVANCED           4.68         ADVANCED   \n",
       "1       189.562         ADVANCED           4.76         ADVANCED   \n",
       "2         6.000     INTERMEDIATE           4.96     INTERMEDIATE   \n",
       "3        38.300     INTERMEDIATE           4.92     INTERMEDIATE   \n",
       "4        38.721         ADVANCED           4.92         ADVANCED   \n",
       "\n",
       "   rating_driver  \n",
       "0           4.68  \n",
       "1           4.76  \n",
       "2           4.96  \n",
       "3           4.92  \n",
       "4           4.92  "
      ]
     },
     "execution_count": 58,
     "metadata": {},
     "output_type": "execute_result"
    }
   ],
   "source": [
    "matrix.head()"
   ]
  },
  {
   "cell_type": "code",
   "execution_count": null,
   "metadata": {},
   "outputs": [],
   "source": []
  }
 ],
 "metadata": {
  "kernelspec": {
   "display_name": "Python 3",
   "language": "python",
   "name": "python3"
  },
  "language_info": {
   "codemirror_mode": {
    "name": "ipython",
    "version": 3
   },
   "file_extension": ".py",
   "mimetype": "text/x-python",
   "name": "python",
   "nbconvert_exporter": "python",
   "pygments_lexer": "ipython3",
   "version": "3.6.5"
  }
 },
 "nbformat": 4,
 "nbformat_minor": 2
}
